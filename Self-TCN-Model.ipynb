{
 "cells": [
  {
   "cell_type": "code",
   "execution_count": 124,
   "id": "9dc6b78f",
   "metadata": {},
   "outputs": [],
   "source": [
    "import numpy as np\n",
    "import pandas as pd\n",
    "from sklearn.metrics import confusion_matrix\n",
    "import tensorflow as tf"
   ]
  },
  {
   "cell_type": "code",
   "execution_count": 125,
   "id": "a160149a",
   "metadata": {},
   "outputs": [],
   "source": [
    "np.random.seed(42)\n",
    "tf.random.set_seed(42)"
   ]
  },
  {
   "cell_type": "code",
   "execution_count": 126,
   "id": "c527ff3d",
   "metadata": {},
   "outputs": [],
   "source": [
    "from tensorflow.keras import backend as K\n",
    "from tensorflow.keras.models import Model\n",
    "from tensorflow.keras.layers import Input, Conv1D, Dropout, Dense, GlobalAveragePooling1D\n",
    "from tensorflow.keras.layers import Layer, Activation\n",
    "from tensorflow.keras.optimizers import RMSprop\n",
    "from tensorflow.keras.callbacks import EarlyStopping"
   ]
  },
  {
   "cell_type": "code",
   "execution_count": 127,
   "id": "41358c15",
   "metadata": {},
   "outputs": [],
   "source": [
    "# Data directory\n",
    "DATADIR = 'UCI HAR Dataset'"
   ]
  },
  {
   "cell_type": "code",
   "execution_count": 128,
   "id": "f013d3d1",
   "metadata": {},
   "outputs": [],
   "source": [
    "SIGNALS = [\n",
    "    \"body_acc_x\",\n",
    "    \"body_acc_y\",\n",
    "    \"body_acc_z\",\n",
    "    \"body_gyro_x\",\n",
    "    \"body_gyro_y\",\n",
    "    \"body_gyro_z\",\n",
    "    \"total_acc_x\",\n",
    "    \"total_acc_y\",\n",
    "    \"total_acc_z\"\n",
    "]"
   ]
  },
  {
   "cell_type": "code",
   "execution_count": 129,
   "id": "14d67f96",
   "metadata": {},
   "outputs": [],
   "source": [
    "def _read_csv(filename):\n",
    "    return pd.read_csv(filename, delim_whitespace=True, header=None)\n",
    "\n",
    "def load_signals(subset):\n",
    "    signals_data = []\n",
    "\n",
    "    for signal in SIGNALS:\n",
    "        filename = f'{DATADIR}/{subset}/Inertial Signals/{signal}_{subset}.txt'\n",
    "        signals_data.append(\n",
    "            _read_csv(filename).to_numpy()\n",
    "        ) \n",
    "\n",
    "    return np.transpose(signals_data, (1, 2, 0))"
   ]
  },
  {
   "cell_type": "code",
   "execution_count": 130,
   "id": "fac7b319",
   "metadata": {},
   "outputs": [],
   "source": [
    "def load_y(subset):\n",
    "    filename = f'{DATADIR}/{subset}/y_{subset}.txt'\n",
    "    y = _read_csv(filename)[0]\n",
    "\n",
    "    return pd.get_dummies(y).to_numpy()"
   ]
  },
  {
   "cell_type": "code",
   "execution_count": 131,
   "id": "b1503fea",
   "metadata": {},
   "outputs": [],
   "source": [
    "def load_data():\n",
    "    X_train, X_test = load_signals('train'), load_signals('test')\n",
    "    y_train, y_test = load_y('train'), load_y('test')\n",
    "\n",
    "    return X_train, X_test, y_train, y_test"
   ]
  },
  {
   "cell_type": "code",
   "execution_count": 132,
   "id": "98cc5559",
   "metadata": {},
   "outputs": [],
   "source": [
    "# Initializing parameters\n",
    "epochs = 30\n",
    "batch_size = 16\n",
    "n_hidden = 32"
   ]
  },
  {
   "cell_type": "code",
   "execution_count": 133,
   "id": "b1cbee63",
   "metadata": {},
   "outputs": [],
   "source": [
    "def _count_classes(y):\n",
    "    return len(set([tuple(category) for category in y]))"
   ]
  },
  {
   "cell_type": "code",
   "execution_count": 134,
   "id": "be866832",
   "metadata": {},
   "outputs": [],
   "source": [
    "X_train, X_test, Y_train, Y_test = load_data()"
   ]
  },
  {
   "cell_type": "code",
   "execution_count": 135,
   "id": "0a423449",
   "metadata": {},
   "outputs": [
    {
     "name": "stdout",
     "output_type": "stream",
     "text": [
      "128\n",
      "9\n",
      "7352\n"
     ]
    }
   ],
   "source": [
    "timesteps = len(X_train[0])\n",
    "input_dim = len(X_train[0][0])\n",
    "n_classes = _count_classes(Y_train)\n",
    "\n",
    "print(timesteps)\n",
    "print(input_dim)\n",
    "print(len(X_train))"
   ]
  },
  {
   "cell_type": "code",
   "execution_count": 136,
   "id": "65df2ac6",
   "metadata": {},
   "outputs": [
    {
     "data": {
      "text/plain": [
       "(7352, 128, 9)"
      ]
     },
     "execution_count": 136,
     "metadata": {},
     "output_type": "execute_result"
    }
   ],
   "source": [
    "X_train.shape"
   ]
  },
  {
   "cell_type": "code",
   "execution_count": 137,
   "id": "db613f53",
   "metadata": {},
   "outputs": [],
   "source": [
    "# TCN Layer\n",
    "def TCN(input_layer, filters, kernel_size=3, dilation_rate=1):\n",
    "    x = Conv1D(filters, kernel_size, dilation_rate=dilation_rate, padding='causal')(input_layer)\n",
    "    x = Activation('relu')(x)\n",
    "    x = Conv1D(filters, kernel_size, dilation_rate=dilation_rate, padding='causal')(x)\n",
    "    x = Activation('relu')(x)\n",
    "    return x\n"
   ]
  },
  {
   "cell_type": "code",
   "execution_count": null,
   "id": "9a75fd6a",
   "metadata": {},
   "outputs": [],
   "source": [
    "class SelfAttention(Layer):\n",
    "    def __init__(self, units, name=None, trainable=True, dtype=None):\n",
    "        super(SelfAttention, self).__init__(name=name, trainable=trainable, dtype=dtype)  # Menambahkan 'dtype'\n",
    "        self.units = units\n",
    "        self.query_dense = Dense(units)\n",
    "        self.key_dense = Dense(units)\n",
    "        self.value_dense = Dense(units)\n",
    "\n",
    "    def call(self, inputs):\n",
    "        query = self.query_dense(inputs)\n",
    "        key = self.key_dense(inputs)\n",
    "        value = self.value_dense(inputs)\n",
    "\n",
    "        attention_scores = tf.matmul(query, key, transpose_b=True)\n",
    "        attention_scores = attention_scores / tf.math.sqrt(tf.cast(self.units, tf.float32))\n",
    "        attention_weights = tf.nn.softmax(attention_scores, axis=-1)\n",
    "        output = tf.matmul(attention_weights, value)\n",
    "        return output\n",
    "\n",
    "    def get_config(self):\n",
    "        config = super(SelfAttention, self).get_config()\n",
    "        config.update({\n",
    "            \"units\": self.units\n",
    "        })\n",
    "        return config"
   ]
  },
  {
   "cell_type": "code",
   "execution_count": 139,
   "id": "8b5f3b9e",
   "metadata": {},
   "outputs": [
    {
     "name": "stdout",
     "output_type": "stream",
     "text": [
      "Model: \"model_6\"\n",
      "_________________________________________________________________\n",
      " Layer (type)                Output Shape              Param #   \n",
      "=================================================================\n",
      " input_7 (InputLayer)        [(None, 128, 9)]          0         \n",
      "                                                                 \n",
      " conv1d_12 (Conv1D)          (None, 128, 64)           1792      \n",
      "                                                                 \n",
      " activation_12 (Activation)  (None, 128, 64)           0         \n",
      "                                                                 \n",
      " conv1d_13 (Conv1D)          (None, 128, 64)           12352     \n",
      "                                                                 \n",
      " activation_13 (Activation)  (None, 128, 64)           0         \n",
      "                                                                 \n",
      " self_attention_6 (SelfAtten  (None, 128, 64)          12480     \n",
      " tion)                                                           \n",
      "                                                                 \n",
      " global_average_pooling1d_6   (None, 64)               0         \n",
      " (GlobalAveragePooling1D)                                        \n",
      "                                                                 \n",
      " dropout_6 (Dropout)         (None, 64)                0         \n",
      "                                                                 \n",
      " dense_27 (Dense)            (None, 6)                 390       \n",
      "                                                                 \n",
      "=================================================================\n",
      "Total params: 27,014\n",
      "Trainable params: 27,014\n",
      "Non-trainable params: 0\n",
      "_________________________________________________________________\n"
     ]
    }
   ],
   "source": [
    "input_layer = Input(shape=(timesteps, input_dim))\n",
    "\n",
    "tcn_output = TCN(input_layer, filters=64, kernel_size=3, dilation_rate=2)\n",
    "\n",
    "attention_output = SelfAttention(units=64)(tcn_output)\n",
    "\n",
    "x = GlobalAveragePooling1D()(attention_output)\n",
    "\n",
    "x = Dropout(0.5)(x)\n",
    "\n",
    "output_layer = Dense(n_classes, activation='softmax')(x)\n",
    "\n",
    "model = Model(inputs=input_layer, outputs=output_layer)\n",
    "\n",
    "model.compile(loss='categorical_crossentropy', optimizer=RMSprop(), metrics=['accuracy'])\n",
    "\n",
    "model.summary()\n"
   ]
  },
  {
   "cell_type": "code",
   "execution_count": 140,
   "id": "58607970",
   "metadata": {},
   "outputs": [],
   "source": [
    "early_stopping = EarlyStopping(monitor='val_loss', patience=5, restore_best_weights=True)"
   ]
  },
  {
   "cell_type": "code",
   "execution_count": 141,
   "id": "38077954",
   "metadata": {},
   "outputs": [
    {
     "name": "stdout",
     "output_type": "stream",
     "text": [
      "Epoch 1/30\n",
      "460/460 [==============================] - 15s 25ms/step - loss: 0.5142 - accuracy: 0.8028 - val_loss: 0.6320 - val_accuracy: 0.7866\n",
      "Epoch 2/30\n",
      "460/460 [==============================] - 10s 22ms/step - loss: 0.2162 - accuracy: 0.9195 - val_loss: 0.4287 - val_accuracy: 0.8724\n",
      "Epoch 3/30\n",
      "460/460 [==============================] - 11s 23ms/step - loss: 0.1699 - accuracy: 0.9374 - val_loss: 0.3629 - val_accuracy: 0.8785\n",
      "Epoch 4/30\n",
      "460/460 [==============================] - 11s 23ms/step - loss: 0.1449 - accuracy: 0.9407 - val_loss: 0.5569 - val_accuracy: 0.8656\n",
      "Epoch 5/30\n",
      "460/460 [==============================] - 10s 23ms/step - loss: 0.1297 - accuracy: 0.9487 - val_loss: 0.4039 - val_accuracy: 0.8880\n",
      "Epoch 6/30\n",
      "460/460 [==============================] - 13s 28ms/step - loss: 0.1183 - accuracy: 0.9520 - val_loss: 0.3691 - val_accuracy: 0.9097\n",
      "Epoch 7/30\n",
      "460/460 [==============================] - 10s 21ms/step - loss: 0.1167 - accuracy: 0.9489 - val_loss: 0.3720 - val_accuracy: 0.9087\n",
      "Epoch 8/30\n",
      "460/460 [==============================] - 11s 23ms/step - loss: 0.1185 - accuracy: 0.9509 - val_loss: 0.4349 - val_accuracy: 0.9046\n"
     ]
    },
    {
     "data": {
      "text/plain": [
       "<keras.callbacks.History at 0x2481fb8e040>"
      ]
     },
     "execution_count": 141,
     "metadata": {},
     "output_type": "execute_result"
    }
   ],
   "source": [
    "model.fit(X_train, Y_train, batch_size=16, epochs=30, validation_data=(X_test, Y_test), callbacks=[early_stopping])\n"
   ]
  },
  {
   "cell_type": "code",
   "execution_count": 142,
   "id": "2c0e62c8",
   "metadata": {},
   "outputs": [
    {
     "name": "stdout",
     "output_type": "stream",
     "text": [
      "93/93 [==============================] - 1s 13ms/step - loss: 0.3629 - accuracy: 0.8785\n",
      "Accuracy: 0.8785205483436584\n",
      "Loss: 0.3628637194633484\n",
      "93/93 [==============================] - 1s 10ms/step\n"
     ]
    },
    {
     "data": {
      "image/png": "[encoded data removed]",
      "text/plain": [
       "<Figure size 800x600 with 1 Axes>"
      ]
     },
     "metadata": {},
     "output_type": "display_data"
    }
   ],
   "source": [
    "import seaborn as sns\n",
    "import matplotlib.pyplot as plt\n",
    "\n",
    "score = model.evaluate(X_test, Y_test)\n",
    "print(f\"Accuracy: {score[1]}\")\n",
    "print(f\"Loss: {score[0]}\")\n",
    "\n",
    "y_pred = model.predict(X_test)\n",
    "cm = confusion_matrix(np.argmax(Y_test, axis=1), np.argmax(y_pred, axis=1))\n",
    "\n",
    "plt.figure(figsize=(8,6))\n",
    "sns.heatmap(cm, annot=True, fmt=\"d\", cmap=\"Blues\", xticklabels=[\"WALKING\", \"WALKING_UPSTAIRS\", \"WALKING_DOWNSTAIRS\", \"SITTING\", \"STANDING\", \"LAYING\"], yticklabels=[\"WALKING\", \"WALKING_UPSTAIRS\", \"WALKING_DOWNSTAIRS\", \"SITTING\", \"STANDING\", \"LAYING\"], cbar=False)\n",
    "\n",
    "plt.title(\"Confusion Matrix\")\n",
    "plt.xlabel(\"Predicted Labels\")\n",
    "plt.ylabel(\"True Labels\")\n",
    "\n",
    "plt.show()\n"
   ]
  },
  {
   "cell_type": "code",
   "execution_count": 143,
   "id": "873df849",
   "metadata": {},
   "outputs": [],
   "source": [
    "model.save('skripshit_model.h5')"
   ]
  },
  {
   "cell_type": "code",
   "execution_count": null,
   "id": "f0c376ee",
   "metadata": {},
   "outputs": [],
   "source": [
    "from tensorflow.keras.models import load_model\n",
    "\n",
    "model = load_model('skripshit_model.h5', custom_objects={'SelfAttention': SelfAttention})"
   ]
  },
  {
   "cell_type": "code",
   "execution_count": null,
   "id": "caec6d9e",
   "metadata": {},
   "outputs": [
    {
     "name": "stderr",
     "output_type": "stream",
     "text": [
      "WARNING:absl:Found untraced functions such as _jit_compiled_convolution_op, _jit_compiled_convolution_op, dense_28_layer_call_fn, dense_28_layer_call_and_return_conditional_losses, dense_29_layer_call_fn while saving (showing 5 of 8). These functions will not be directly callable after loading.\n"
     ]
    },
    {
     "name": "stdout",
     "output_type": "stream",
     "text": [
      "INFO:tensorflow:Assets written to: C:\\Users\\MUHAMM~1\\AppData\\Local\\Temp\\tmpvm_2ef23\\assets\n"
     ]
    },
    {
     "name": "stderr",
     "output_type": "stream",
     "text": [
      "INFO:tensorflow:Assets written to: C:\\Users\\MUHAMM~1\\AppData\\Local\\Temp\\tmpvm_2ef23\\assets\n"
     ]
    }
   ],
   "source": [
    "converter = tf.lite.TFLiteConverter.from_keras_model(model)\n",
    "tflite_model = converter.convert()\n",
    "\n",
    "with open('skripshit_model.tflite', 'wb') as f:\n",
    "    f.write(tflite_model)"
   ]
  }
 ],
 "metadata": {
  "kernelspec": {
   "display_name": "Python skripshit",
   "language": "python",
   "name": "skripsi_env"
  },
  "language_info": {
   "codemirror_mode": {
    "name": "ipython",
    "version": 3
   },
   "file_extension": ".py",
   "mimetype": "text/x-python",
   "name": "python",
   "nbconvert_exporter": "python",
   "pygments_lexer": "ipython3",
   "version": "3.8.18"
  }
 },
 "nbformat": 4,
 "nbformat_minor": 5
}
