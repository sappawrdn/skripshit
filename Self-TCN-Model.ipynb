{
 "cells": [
  {
   "cell_type": "code",
   "execution_count": 41,
   "id": "9dc6b78f",
   "metadata": {},
   "outputs": [],
   "source": [
    "import numpy as np\n",
    "import pandas as pd\n",
    "from sklearn.metrics import confusion_matrix\n",
    "import tensorflow as tf"
   ]
  },
  {
   "cell_type": "code",
   "execution_count": 42,
   "id": "a160149a",
   "metadata": {},
   "outputs": [],
   "source": [
    "np.random.seed(42)\n",
    "tf.random.set_seed(42)"
   ]
  },
  {
   "cell_type": "code",
   "execution_count": 43,
   "id": "c527ff3d",
   "metadata": {},
   "outputs": [],
   "source": [
    "from tensorflow.keras import backend as K\n",
    "from tensorflow.keras.models import Model\n",
    "from tensorflow.keras.layers import Input, Conv1D, Dropout, Dense, GlobalAveragePooling1D\n",
    "from tensorflow.keras.layers import Layer, Activation\n",
    "from tensorflow.keras.optimizers import RMSprop\n",
    "from tensorflow.keras.callbacks import EarlyStopping"
   ]
  },
  {
   "cell_type": "code",
   "execution_count": 44,
   "id": "41358c15",
   "metadata": {},
   "outputs": [],
   "source": [
    "# Data directory\n",
    "DATADIR = 'UCI HAR Dataset'"
   ]
  },
  {
   "cell_type": "code",
   "execution_count": 45,
   "id": "f013d3d1",
   "metadata": {},
   "outputs": [],
   "source": [
    "SIGNALS = [\n",
    "    \"body_acc_x\",\n",
    "    \"body_acc_y\",\n",
    "    \"body_acc_z\",\n",
    "    \"body_gyro_x\",\n",
    "    \"body_gyro_y\",\n",
    "    \"body_gyro_z\",\n",
    "    \"total_acc_x\",\n",
    "    \"total_acc_y\",\n",
    "    \"total_acc_z\"\n",
    "]"
   ]
  },
  {
   "cell_type": "code",
   "execution_count": 46,
   "id": "14d67f96",
   "metadata": {},
   "outputs": [],
   "source": [
    "def _read_csv(filename):\n",
    "    return pd.read_csv(filename, delim_whitespace=True, header=None)\n",
    "\n",
    "def load_signals(subset):\n",
    "    signals_data = []\n",
    "\n",
    "    for signal in SIGNALS:\n",
    "        filename = f'{DATADIR}/{subset}/Inertial Signals/{signal}_{subset}.txt'\n",
    "        signals_data.append(\n",
    "            _read_csv(filename).to_numpy()\n",
    "        ) \n",
    "\n",
    "    return np.transpose(signals_data, (1, 2, 0))"
   ]
  },
  {
   "cell_type": "code",
   "execution_count": 47,
   "id": "fac7b319",
   "metadata": {},
   "outputs": [],
   "source": [
    "def load_y(subset):\n",
    "    filename = f'{DATADIR}/{subset}/y_{subset}.txt'\n",
    "    y = _read_csv(filename)[0]\n",
    "\n",
    "    return pd.get_dummies(y).to_numpy()"
   ]
  },
  {
   "cell_type": "code",
   "execution_count": 48,
   "id": "b1503fea",
   "metadata": {},
   "outputs": [],
   "source": [
    "def load_data():\n",
    "    X_train, X_test = load_signals('train'), load_signals('test')\n",
    "    y_train, y_test = load_y('train'), load_y('test')\n",
    "\n",
    "    return X_train, X_test, y_train, y_test"
   ]
  },
  {
   "cell_type": "code",
   "execution_count": 49,
   "id": "98cc5559",
   "metadata": {},
   "outputs": [],
   "source": [
    "# Initializing parameters\n",
    "epochs = 30\n",
    "batch_size = 16\n",
    "n_hidden = 32"
   ]
  },
  {
   "cell_type": "code",
   "execution_count": 50,
   "id": "b1cbee63",
   "metadata": {},
   "outputs": [],
   "source": [
    "def _count_classes(y):\n",
    "    return len(set([tuple(category) for category in y]))"
   ]
  },
  {
   "cell_type": "code",
   "execution_count": 51,
   "id": "be866832",
   "metadata": {},
   "outputs": [],
   "source": [
    "X_train, X_test, Y_train, Y_test = load_data()"
   ]
  },
  {
   "cell_type": "code",
   "execution_count": 52,
   "id": "0a423449",
   "metadata": {},
   "outputs": [
    {
     "name": "stdout",
     "output_type": "stream",
     "text": [
      "128\n",
      "9\n",
      "7352\n"
     ]
    }
   ],
   "source": [
    "timesteps = len(X_train[0])\n",
    "input_dim = len(X_train[0][0])\n",
    "n_classes = _count_classes(Y_train)\n",
    "\n",
    "print(timesteps)\n",
    "print(input_dim)\n",
    "print(len(X_train))"
   ]
  },
  {
   "cell_type": "code",
   "execution_count": 53,
   "id": "65df2ac6",
   "metadata": {},
   "outputs": [
    {
     "data": {
      "text/plain": [
       "(7352, 128, 9)"
      ]
     },
     "execution_count": 53,
     "metadata": {},
     "output_type": "execute_result"
    }
   ],
   "source": [
    "X_train.shape"
   ]
  },
  {
   "cell_type": "code",
   "execution_count": 54,
   "id": "db613f53",
   "metadata": {},
   "outputs": [],
   "source": [
    "# TCN Layer\n",
    "def TCN(input_layer, filters, kernel_size=3, dilation_rate=1):\n",
    "    x = Conv1D(filters, kernel_size, dilation_rate=dilation_rate, padding='causal')(input_layer)\n",
    "    x = Activation('relu')(x)\n",
    "    x = Conv1D(filters, kernel_size, dilation_rate=dilation_rate, padding='causal')(x)\n",
    "    x = Activation('relu')(x)\n",
    "    return x\n"
   ]
  },
  {
   "cell_type": "code",
   "execution_count": 55,
   "id": "9a75fd6a",
   "metadata": {},
   "outputs": [],
   "source": [
    "# Self-Attention Layer\n",
    "class SelfAttention(Layer):\n",
    "    def __init__(self, units):\n",
    "        super(SelfAttention, self).__init__()\n",
    "        self.units = units\n",
    "        self.query_dense = Dense(units)\n",
    "        self.key_dense = Dense(units)\n",
    "        self.value_dense = Dense(units)\n",
    "\n",
    "    def call(self, inputs):\n",
    "        query = self.query_dense(inputs)\n",
    "        key = self.key_dense(inputs)\n",
    "        value = self.value_dense(inputs)\n",
    "\n",
    "        attention_scores = tf.matmul(query, key, transpose_b=True)\n",
    "        attention_scores = attention_scores / tf.math.sqrt(tf.cast(self.units, tf.float32))\n",
    "        attention_weights = tf.nn.softmax(attention_scores, axis=-1)\n",
    "        output = tf.matmul(attention_weights, value)\n",
    "        return output\n",
    "    \n",
    "    def get_config(self):\n",
    "        # Return the configuration of the custom layer\n",
    "        config = super(SelfAttention, self).get_config()\n",
    "        config.update({\n",
    "            \"units\": self.units\n",
    "        })\n",
    "        return config\n"
   ]
  },
  {
   "cell_type": "code",
   "execution_count": 56,
   "id": "8b5f3b9e",
   "metadata": {},
   "outputs": [
    {
     "name": "stdout",
     "output_type": "stream",
     "text": [
      "Model: \"model_2\"\n",
      "_________________________________________________________________\n",
      " Layer (type)                Output Shape              Param #   \n",
      "=================================================================\n",
      " input_3 (InputLayer)        [(None, 128, 9)]          0         \n",
      "                                                                 \n",
      " conv1d_4 (Conv1D)           (None, 128, 64)           1792      \n",
      "                                                                 \n",
      " activation_4 (Activation)   (None, 128, 64)           0         \n",
      "                                                                 \n",
      " conv1d_5 (Conv1D)           (None, 128, 64)           12352     \n",
      "                                                                 \n",
      " activation_5 (Activation)   (None, 128, 64)           0         \n",
      "                                                                 \n",
      " self_attention_2 (SelfAtten  (None, 128, 64)          12480     \n",
      " tion)                                                           \n",
      "                                                                 \n",
      " global_average_pooling1d_2   (None, 64)               0         \n",
      " (GlobalAveragePooling1D)                                        \n",
      "                                                                 \n",
      " dropout_2 (Dropout)         (None, 64)                0         \n",
      "                                                                 \n",
      " dense_11 (Dense)            (None, 6)                 390       \n",
      "                                                                 \n",
      "=================================================================\n",
      "Total params: 27,014\n",
      "Trainable params: 27,014\n",
      "Non-trainable params: 0\n",
      "_________________________________________________________________\n"
     ]
    }
   ],
   "source": [
    "input_layer = Input(shape=(timesteps, input_dim))\n",
    "\n",
    "tcn_output = TCN(input_layer, filters=64, kernel_size=3, dilation_rate=2)\n",
    "\n",
    "attention_output = SelfAttention(units=64)(tcn_output)\n",
    "\n",
    "x = GlobalAveragePooling1D()(attention_output)\n",
    "\n",
    "x = Dropout(0.5)(x)\n",
    "\n",
    "output_layer = Dense(n_classes, activation='softmax')(x)\n",
    "\n",
    "model = Model(inputs=input_layer, outputs=output_layer)\n",
    "\n",
    "model.compile(loss='categorical_crossentropy', optimizer=RMSprop(), metrics=['accuracy'])\n",
    "\n",
    "model.summary()\n"
   ]
  },
  {
   "cell_type": "code",
   "execution_count": 57,
   "id": "58607970",
   "metadata": {},
   "outputs": [],
   "source": [
    "early_stopping = EarlyStopping(monitor='val_loss', patience=5, restore_best_weights=True)"
   ]
  },
  {
   "cell_type": "code",
   "execution_count": 58,
   "id": "38077954",
   "metadata": {},
   "outputs": [
    {
     "name": "stdout",
     "output_type": "stream",
     "text": [
      "Epoch 1/30\n",
      "460/460 [==============================] - 12s 19ms/step - loss: 0.4086 - accuracy: 0.8428 - val_loss: 0.3679 - val_accuracy: 0.8761\n",
      "Epoch 2/30\n",
      "460/460 [==============================] - 8s 18ms/step - loss: 0.1467 - accuracy: 0.9421 - val_loss: 0.3559 - val_accuracy: 0.8884\n",
      "Epoch 3/30\n",
      "460/460 [==============================] - 8s 17ms/step - loss: 0.1294 - accuracy: 0.9472 - val_loss: 0.3308 - val_accuracy: 0.9002\n",
      "Epoch 4/30\n",
      "460/460 [==============================] - 8s 18ms/step - loss: 0.1234 - accuracy: 0.9464 - val_loss: 0.3455 - val_accuracy: 0.9080\n",
      "Epoch 5/30\n",
      "460/460 [==============================] - 8s 18ms/step - loss: 0.1153 - accuracy: 0.9518 - val_loss: 0.4072 - val_accuracy: 0.8931\n",
      "Epoch 6/30\n",
      "460/460 [==============================] - 8s 18ms/step - loss: 0.1132 - accuracy: 0.9553 - val_loss: 0.3875 - val_accuracy: 0.9104\n",
      "Epoch 7/30\n",
      "460/460 [==============================] - 8s 18ms/step - loss: 0.1137 - accuracy: 0.9525 - val_loss: 0.4028 - val_accuracy: 0.9118\n",
      "Epoch 8/30\n",
      "460/460 [==============================] - 9s 19ms/step - loss: 0.1062 - accuracy: 0.9561 - val_loss: 0.4353 - val_accuracy: 0.9063\n"
     ]
    },
    {
     "data": {
      "text/plain": [
       "<keras.callbacks.History at 0x24822fc3c40>"
      ]
     },
     "execution_count": 58,
     "metadata": {},
     "output_type": "execute_result"
    }
   ],
   "source": [
    "model.fit(X_train, Y_train, batch_size=16, epochs=30, validation_data=(X_test, Y_test), callbacks=[early_stopping])\n"
   ]
  },
  {
   "cell_type": "code",
   "execution_count": 59,
   "id": "2c0e62c8",
   "metadata": {},
   "outputs": [
    {
     "name": "stdout",
     "output_type": "stream",
     "text": [
      "93/93 [==============================] - 1s 11ms/step - loss: 0.3308 - accuracy: 0.9002\n",
      "Accuracy: 0.900237500667572\n",
      "Loss: 0.3307574987411499\n",
      "93/93 [==============================] - 1s 9ms/step\n"
     ]
    },
    {
     "data": {
      "image/png": "[encoded data removed]",
      "text/plain": [
       "<Figure size 800x600 with 1 Axes>"
      ]
     },
     "metadata": {},
     "output_type": "display_data"
    }
   ],
   "source": [
    "import seaborn as sns\n",
    "import matplotlib.pyplot as plt\n",
    "\n",
    "score = model.evaluate(X_test, Y_test)\n",
    "print(f\"Accuracy: {score[1]}\")\n",
    "print(f\"Loss: {score[0]}\")\n",
    "\n",
    "y_pred = model.predict(X_test)\n",
    "cm = confusion_matrix(np.argmax(Y_test, axis=1), np.argmax(y_pred, axis=1))\n",
    "\n",
    "plt.figure(figsize=(8,6))\n",
    "sns.heatmap(cm, annot=True, fmt=\"d\", cmap=\"Blues\", xticklabels=[\"WALKING\", \"WALKING_UPSTAIRS\", \"WALKING_DOWNSTAIRS\", \"SITTING\", \"STANDING\", \"LAYING\"], yticklabels=[\"WALKING\", \"WALKING_UPSTAIRS\", \"WALKING_DOWNSTAIRS\", \"SITTING\", \"STANDING\", \"LAYING\"], cbar=False)\n",
    "\n",
    "plt.title(\"Confusion Matrix\")\n",
    "plt.xlabel(\"Predicted Labels\")\n",
    "plt.ylabel(\"True Labels\")\n",
    "\n",
    "plt.show()\n"
   ]
  },
  {
   "cell_type": "code",
   "execution_count": 60,
   "id": "873df849",
   "metadata": {},
   "outputs": [],
   "source": [
    "model.save('skripshit_model.h5')"
   ]
  }
 ],
 "metadata": {
  "kernelspec": {
   "display_name": "Python skripshit",
   "language": "python",
   "name": "skripsi_env"
  },
  "language_info": {
   "codemirror_mode": {
    "name": "ipython",
    "version": 3
   },
   "file_extension": ".py",
   "mimetype": "text/x-python",
   "name": "python",
   "nbconvert_exporter": "python",
   "pygments_lexer": "ipython3",
   "version": "3.8.18"
  }
 },
 "nbformat": 4,
 "nbformat_minor": 5
}
