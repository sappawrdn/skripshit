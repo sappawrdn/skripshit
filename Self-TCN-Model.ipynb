{
 "cells": [
  {
   "cell_type": "code",
   "execution_count": 18,
   "id": "9dc6b78f",
   "metadata": {},
   "outputs": [],
   "source": [
    "import numpy as np\n",
    "import pandas as pd\n",
    "from sklearn.metrics import confusion_matrix\n",
    "import tensorflow as tf"
   ]
  },
  {
   "cell_type": "code",
   "execution_count": null,
   "id": "a160149a",
   "metadata": {},
   "outputs": [],
   "source": [
    "np.random.seed(42)\n",
    "tf.random.set_seed(42)"
   ]
  },
  {
   "cell_type": "code",
   "execution_count": 21,
   "id": "c527ff3d",
   "metadata": {},
   "outputs": [],
   "source": [
    "from tensorflow.keras import backend as K\n",
    "from tensorflow.keras.models import Model\n",
    "from tensorflow.keras.layers import Input, Conv1D, Dropout, Dense, GlobalAveragePooling1D\n",
    "from tensorflow.keras.layers import Layer, Activation\n",
    "from tensorflow.keras.optimizers import RMSprop"
   ]
  },
  {
   "cell_type": "code",
   "execution_count": 22,
   "id": "41358c15",
   "metadata": {},
   "outputs": [],
   "source": [
    "# Data directory\n",
    "DATADIR = 'UCI HAR Dataset'"
   ]
  },
  {
   "cell_type": "code",
   "execution_count": null,
   "id": "f013d3d1",
   "metadata": {},
   "outputs": [],
   "source": [
    "SIGNALS = [\n",
    "    \"body_acc_x\",\n",
    "    \"body_acc_y\",\n",
    "    \"body_acc_z\",\n",
    "    \"body_gyro_x\",\n",
    "    \"body_gyro_y\",\n",
    "    \"body_gyro_z\",\n",
    "    \"total_acc_x\",\n",
    "    \"total_acc_y\",\n",
    "    \"total_acc_z\"\n",
    "]"
   ]
  },
  {
   "cell_type": "code",
   "execution_count": null,
   "id": "14d67f96",
   "metadata": {},
   "outputs": [],
   "source": [
    "def _read_csv(filename):\n",
    "    return pd.read_csv(filename, delim_whitespace=True, header=None)\n",
    "\n",
    "def load_signals(subset):\n",
    "    signals_data = []\n",
    "\n",
    "    for signal in SIGNALS:\n",
    "        filename = f'{DATADIR}/{subset}/Inertial Signals/{signal}_{subset}.txt'\n",
    "        signals_data.append(\n",
    "            _read_csv(filename).to_numpy()\n",
    "        ) \n",
    "\n",
    "    return np.transpose(signals_data, (1, 2, 0))"
   ]
  },
  {
   "cell_type": "code",
   "execution_count": null,
   "id": "fac7b319",
   "metadata": {},
   "outputs": [],
   "source": [
    "def load_y(subset):\n",
    "    filename = f'{DATADIR}/{subset}/y_{subset}.txt'\n",
    "    y = _read_csv(filename)[0]\n",
    "\n",
    "    return pd.get_dummies(y).to_numpy()"
   ]
  },
  {
   "cell_type": "code",
   "execution_count": null,
   "id": "b1503fea",
   "metadata": {},
   "outputs": [],
   "source": [
    "def load_data():\n",
    "    X_train, X_test = load_signals('train'), load_signals('test')\n",
    "    y_train, y_test = load_y('train'), load_y('test')\n",
    "\n",
    "    return X_train, X_test, y_train, y_test"
   ]
  },
  {
   "cell_type": "code",
   "execution_count": 28,
   "id": "98cc5559",
   "metadata": {},
   "outputs": [],
   "source": [
    "# Initializing parameters\n",
    "epochs = 30\n",
    "batch_size = 16\n",
    "n_hidden = 32"
   ]
  },
  {
   "cell_type": "code",
   "execution_count": null,
   "id": "b1cbee63",
   "metadata": {},
   "outputs": [],
   "source": [
    "def _count_classes(y):\n",
    "    return len(set([tuple(category) for category in y]))"
   ]
  },
  {
   "cell_type": "code",
   "execution_count": null,
   "id": "be866832",
   "metadata": {},
   "outputs": [],
   "source": [
    "X_train, X_test, Y_train, Y_test = load_data()"
   ]
  },
  {
   "cell_type": "code",
   "execution_count": 31,
   "id": "0a423449",
   "metadata": {},
   "outputs": [
    {
     "name": "stdout",
     "output_type": "stream",
     "text": [
      "128\n",
      "9\n",
      "7352\n"
     ]
    }
   ],
   "source": [
    "timesteps = len(X_train[0])\n",
    "input_dim = len(X_train[0][0])\n",
    "n_classes = _count_classes(Y_train)\n",
    "\n",
    "print(timesteps)\n",
    "print(input_dim)\n",
    "print(len(X_train))"
   ]
  },
  {
   "cell_type": "code",
   "execution_count": 32,
   "id": "65df2ac6",
   "metadata": {},
   "outputs": [
    {
     "data": {
      "text/plain": [
       "(7352, 128, 9)"
      ]
     },
     "execution_count": 32,
     "metadata": {},
     "output_type": "execute_result"
    }
   ],
   "source": [
    "X_train.shape"
   ]
  },
  {
   "cell_type": "code",
   "execution_count": 33,
   "id": "db613f53",
   "metadata": {},
   "outputs": [],
   "source": [
    "# TCN Layer\n",
    "def TCN(input_layer, filters, kernel_size=3, dilation_rate=1):\n",
    "    x = Conv1D(filters, kernel_size, dilation_rate=dilation_rate, padding='causal')(input_layer)\n",
    "    x = Activation('relu')(x)\n",
    "    x = Conv1D(filters, kernel_size, dilation_rate=dilation_rate, padding='causal')(x)\n",
    "    x = Activation('relu')(x)\n",
    "    return x\n"
   ]
  },
  {
   "cell_type": "code",
   "execution_count": 35,
   "id": "9a75fd6a",
   "metadata": {},
   "outputs": [],
   "source": [
    "# Self-Attention Layer\n",
    "class SelfAttention(Layer):\n",
    "    def __init__(self, units):\n",
    "        super(SelfAttention, self).__init__()\n",
    "        self.units = units\n",
    "        self.query_dense = Dense(units)\n",
    "        self.key_dense = Dense(units)\n",
    "        self.value_dense = Dense(units)\n",
    "\n",
    "    def call(self, inputs):\n",
    "        query = self.query_dense(inputs)\n",
    "        key = self.key_dense(inputs)\n",
    "        value = self.value_dense(inputs)\n",
    "\n",
    "        attention_scores = tf.matmul(query, key, transpose_b=True)\n",
    "        attention_scores = attention_scores / tf.math.sqrt(tf.cast(self.units, tf.float32))\n",
    "        attention_weights = tf.nn.softmax(attention_scores, axis=-1)\n",
    "        output = tf.matmul(attention_weights, value)\n",
    "        return output\n"
   ]
  },
  {
   "cell_type": "code",
   "execution_count": null,
   "id": "8b5f3b9e",
   "metadata": {},
   "outputs": [
    {
     "name": "stdout",
     "output_type": "stream",
     "text": [
      "Model: \"model_1\"\n",
      "_________________________________________________________________\n",
      " Layer (type)                Output Shape              Param #   \n",
      "=================================================================\n",
      " input_2 (InputLayer)        [(None, 128, 9)]          0         \n",
      "                                                                 \n",
      " conv1d_2 (Conv1D)           (None, 128, 64)           1792      \n",
      "                                                                 \n",
      " activation_2 (Activation)   (None, 128, 64)           0         \n",
      "                                                                 \n",
      " conv1d_3 (Conv1D)           (None, 128, 64)           12352     \n",
      "                                                                 \n",
      " activation_3 (Activation)   (None, 128, 64)           0         \n",
      "                                                                 \n",
      " self_attention_1 (SelfAtten  (None, 128, 64)          12480     \n",
      " tion)                                                           \n",
      "                                                                 \n",
      " global_average_pooling1d_1   (None, 64)               0         \n",
      " (GlobalAveragePooling1D)                                        \n",
      "                                                                 \n",
      " dropout_1 (Dropout)         (None, 64)                0         \n",
      "                                                                 \n",
      " dense_7 (Dense)             (None, 6)                 390       \n",
      "                                                                 \n",
      "=================================================================\n",
      "Total params: 27,014\n",
      "Trainable params: 27,014\n",
      "Non-trainable params: 0\n",
      "_________________________________________________________________\n"
     ]
    }
   ],
   "source": [
    "input_layer = Input(shape=(timesteps, input_dim))\n",
    "\n",
    "tcn_output = TCN(input_layer, filters=64, kernel_size=3, dilation_rate=2)\n",
    "\n",
    "attention_output = SelfAttention(units=64)(tcn_output)\n",
    "\n",
    "x = GlobalAveragePooling1D()(attention_output)\n",
    "\n",
    "x = Dropout(0.5)(x)\n",
    "\n",
    "output_layer = Dense(n_classes, activation='softmax')(x)\n",
    "\n",
    "model = Model(inputs=input_layer, outputs=output_layer)\n",
    "\n",
    "model.compile(loss='categorical_crossentropy', optimizer=RMSprop(), metrics=['accuracy'])\n",
    "\n",
    "model.summary()\n"
   ]
  },
  {
   "cell_type": "code",
   "execution_count": null,
   "id": "38077954",
   "metadata": {},
   "outputs": [
    {
     "name": "stdout",
     "output_type": "stream",
     "text": [
      "Epoch 1/30\n",
      "460/460 [==============================] - 12s 20ms/step - loss: 0.5046 - accuracy: 0.8025 - val_loss: 0.6161 - val_accuracy: 0.7920\n",
      "Epoch 2/30\n",
      "460/460 [==============================] - 7s 16ms/step - loss: 0.1911 - accuracy: 0.9309 - val_loss: 0.4140 - val_accuracy: 0.8826\n",
      "Epoch 3/30\n",
      "460/460 [==============================] - 8s 18ms/step - loss: 0.1535 - accuracy: 0.9429 - val_loss: 0.4297 - val_accuracy: 0.8843\n",
      "Epoch 4/30\n",
      "460/460 [==============================] - 7s 15ms/step - loss: 0.1402 - accuracy: 0.9446 - val_loss: 0.4798 - val_accuracy: 0.8856\n",
      "Epoch 5/30\n",
      "460/460 [==============================] - 8s 18ms/step - loss: 0.1250 - accuracy: 0.9499 - val_loss: 0.5442 - val_accuracy: 0.8897\n",
      "Epoch 6/30\n",
      "460/460 [==============================] - 7s 15ms/step - loss: 0.1203 - accuracy: 0.9512 - val_loss: 0.4660 - val_accuracy: 0.9026\n",
      "Epoch 7/30\n",
      "460/460 [==============================] - 8s 18ms/step - loss: 0.1165 - accuracy: 0.9504 - val_loss: 0.5694 - val_accuracy: 0.8873\n",
      "Epoch 8/30\n",
      "460/460 [==============================] - 7s 15ms/step - loss: 0.1091 - accuracy: 0.9544 - val_loss: 0.5537 - val_accuracy: 0.8999\n",
      "Epoch 9/30\n",
      "460/460 [==============================] - 8s 18ms/step - loss: 0.1118 - accuracy: 0.9566 - val_loss: 0.6424 - val_accuracy: 0.8962\n",
      "Epoch 10/30\n",
      "460/460 [==============================] - 7s 16ms/step - loss: 0.0994 - accuracy: 0.9559 - val_loss: 0.6907 - val_accuracy: 0.8884\n",
      "Epoch 11/30\n",
      "460/460 [==============================] - 8s 18ms/step - loss: 0.0991 - accuracy: 0.9563 - val_loss: 0.7594 - val_accuracy: 0.8867\n",
      "Epoch 12/30\n",
      "460/460 [==============================] - 7s 15ms/step - loss: 0.0919 - accuracy: 0.9612 - val_loss: 0.7387 - val_accuracy: 0.9019\n",
      "Epoch 13/30\n",
      "460/460 [==============================] - 8s 17ms/step - loss: 0.0940 - accuracy: 0.9593 - val_loss: 0.8075 - val_accuracy: 0.8941\n",
      "Epoch 14/30\n",
      "460/460 [==============================] - 8s 18ms/step - loss: 0.0894 - accuracy: 0.9616 - val_loss: 0.8951 - val_accuracy: 0.8938\n",
      "Epoch 15/30\n",
      "460/460 [==============================] - 8s 16ms/step - loss: 0.0827 - accuracy: 0.9629 - val_loss: 0.8408 - val_accuracy: 0.9084\n",
      "Epoch 16/30\n",
      "460/460 [==============================] - 8s 17ms/step - loss: 0.0896 - accuracy: 0.9659 - val_loss: 0.9359 - val_accuracy: 0.8870\n",
      "Epoch 17/30\n",
      "460/460 [==============================] - 8s 17ms/step - loss: 0.0924 - accuracy: 0.9616 - val_loss: 1.1642 - val_accuracy: 0.8975\n",
      "Epoch 18/30\n",
      "460/460 [==============================] - 7s 16ms/step - loss: 0.0799 - accuracy: 0.9655 - val_loss: 0.8961 - val_accuracy: 0.8816\n",
      "Epoch 19/30\n",
      "460/460 [==============================] - 7s 16ms/step - loss: 0.0820 - accuracy: 0.9640 - val_loss: 1.0552 - val_accuracy: 0.9087\n",
      "Epoch 20/30\n",
      "460/460 [==============================] - 8s 18ms/step - loss: 0.0726 - accuracy: 0.9675 - val_loss: 1.2248 - val_accuracy: 0.9040\n",
      "Epoch 21/30\n",
      "460/460 [==============================] - 8s 16ms/step - loss: 0.0753 - accuracy: 0.9667 - val_loss: 1.2080 - val_accuracy: 0.8633\n",
      "Epoch 22/30\n",
      "460/460 [==============================] - 9s 19ms/step - loss: 0.0786 - accuracy: 0.9646 - val_loss: 1.3200 - val_accuracy: 0.9063\n",
      "Epoch 23/30\n",
      "460/460 [==============================] - 7s 16ms/step - loss: 0.0814 - accuracy: 0.9684 - val_loss: 1.3257 - val_accuracy: 0.8989\n",
      "Epoch 24/30\n",
      "460/460 [==============================] - 9s 21ms/step - loss: 0.0777 - accuracy: 0.9695 - val_loss: 1.1914 - val_accuracy: 0.9077\n",
      "Epoch 25/30\n",
      "460/460 [==============================] - 7s 16ms/step - loss: 0.0702 - accuracy: 0.9695 - val_loss: 1.3618 - val_accuracy: 0.9070\n",
      "Epoch 26/30\n",
      "460/460 [==============================] - 9s 19ms/step - loss: 0.0709 - accuracy: 0.9714 - val_loss: 1.3411 - val_accuracy: 0.8887\n",
      "Epoch 27/30\n",
      "460/460 [==============================] - 8s 17ms/step - loss: 0.0687 - accuracy: 0.9727 - val_loss: 1.7042 - val_accuracy: 0.8941\n",
      "Epoch 28/30\n",
      "460/460 [==============================] - 8s 17ms/step - loss: 0.0716 - accuracy: 0.9695 - val_loss: 1.6474 - val_accuracy: 0.8897\n",
      "Epoch 29/30\n",
      "460/460 [==============================] - 7s 16ms/step - loss: 0.0707 - accuracy: 0.9727 - val_loss: 1.8402 - val_accuracy: 0.8761\n",
      "Epoch 30/30\n",
      "460/460 [==============================] - 8s 18ms/step - loss: 0.0681 - accuracy: 0.9736 - val_loss: 1.4517 - val_accuracy: 0.8965\n"
     ]
    },
    {
     "data": {
      "text/plain": [
       "<keras.callbacks.History at 0x248fb3c6d60>"
      ]
     },
     "execution_count": 37,
     "metadata": {},
     "output_type": "execute_result"
    }
   ],
   "source": [
    "model.fit(X_train, Y_train, batch_size=16, epochs=30, validation_data=(X_test, Y_test))\n"
   ]
  },
  {
   "cell_type": "code",
   "execution_count": null,
   "id": "2c0e62c8",
   "metadata": {},
   "outputs": [
    {
     "name": "stdout",
     "output_type": "stream",
     "text": [
      "93/93 [==============================] - 1s 9ms/step - loss: 1.4517 - accuracy: 0.8965\n",
      "Accuracy: 0.8965049386024475\n",
      "Loss: 1.4517269134521484\n",
      "93/93 [==============================] - 1s 8ms/step\n"
     ]
    },
    {
     "data": {
      "image/png": "[encoded data removed]",
      "text/plain": [
       "<Figure size 800x600 with 1 Axes>"
      ]
     },
     "metadata": {},
     "output_type": "display_data"
    }
   ],
   "source": [
    "import seaborn as sns\n",
    "import matplotlib.pyplot as plt\n",
    "\n",
    "score = model.evaluate(X_test, Y_test)\n",
    "print(f\"Accuracy: {score[1]}\")\n",
    "print(f\"Loss: {score[0]}\")\n",
    "\n",
    "y_pred = model.predict(X_test)\n",
    "cm = confusion_matrix(np.argmax(Y_test, axis=1), np.argmax(y_pred, axis=1))\n",
    "\n",
    "plt.figure(figsize=(8,6))\n",
    "sns.heatmap(cm, annot=True, fmt=\"d\", cmap=\"Blues\", xticklabels=[\"WALKING\", \"WALKING_UPSTAIRS\", \"WALKING_DOWNSTAIRS\", \"SITTING\", \"STANDING\", \"LAYING\"], yticklabels=[\"WALKING\", \"WALKING_UPSTAIRS\", \"WALKING_DOWNSTAIRS\", \"SITTING\", \"STANDING\", \"LAYING\"], cbar=False)\n",
    "\n",
    "plt.title(\"Confusion Matrix\")\n",
    "plt.xlabel(\"Predicted Labels\")\n",
    "plt.ylabel(\"True Labels\")\n",
    "\n",
    "plt.show()\n"
   ]
  }
 ],
 "metadata": {
  "kernelspec": {
   "display_name": "Python skripshit",
   "language": "python",
   "name": "skripsi_env"
  },
  "language_info": {
   "codemirror_mode": {
    "name": "ipython",
    "version": 3
   },
   "file_extension": ".py",
   "mimetype": "text/x-python",
   "name": "python",
   "nbconvert_exporter": "python",
   "pygments_lexer": "ipython3",
   "version": "3.8.18"
  }
 },
 "nbformat": 4,
 "nbformat_minor": 5
}
